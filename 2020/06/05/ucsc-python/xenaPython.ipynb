{
 "cells": [
  {
   "cell_type": "code",
   "execution_count": 1,
   "metadata": {},
   "outputs": [],
   "source": [
    "import xenaPython as xena"
   ]
  },
  {
   "cell_type": "code",
   "execution_count": 2,
   "metadata": {},
   "outputs": [
    {
     "output_type": "stream",
     "name": "stdout",
     "text": "Help on package xenaPython:\n\nNAME\n    xenaPython - Methods for querying data from UCSC Xena hubs\n\nDESCRIPTION\n    Data rows are associated with \"sample\" IDs.\n    Sample IDs are unique within a \"cohort\".\n    A \"dataset\" is a particular assay of a cohort, e.g. gene expression.\n    Datasets have associated metadata, specifying their data type and cohort.\n    \n    There are three primary data types: dense matrix (samples by probes),\n    sparse (sample, position, variant), and segmented (sample, position, value).\n    \n    \n    Dense matrices can be genotypic or phenotypic. Phenotypic matrices have\n    associated field metadata (descriptive names, codes, etc.).\n    \n    Genotypic matricies may have an associated probeMap, which maps probes to\n    genomic locations. If a matrix has hugo probeMap, the probes themselves\n    are gene names. Otherwise, a probeMap is used to map a gene location to a\n    set of probes.\n\nPACKAGE CONTENTS\n    convert\n    example\n    jupyter\n    xenaAPI\n    xenaQuery\n\nFUNCTIONS\n    all_cohorts(host, exclude)\n    \n    all_datasets(host)\n    \n    all_datasets_n(host)\n        Count the number datasets with non-null cohort\n    \n    all_field_metadata(host, dataset)\n        Metadata for all dataset fields (phenotypic datasets)\n    \n    cohort_samples(host, cohort, limit)\n        All samples in cohort\n    \n    cohort_summary(host, exclude)\n        Count datasets per-cohort, excluding the given dataset types\n        \n        xena.cohort_summary(xena.PUBLIC_HUBS[\"pancanAtlasHub\"], [\"probeMap\"])\n    \n    dataset_fetch(host, dataset, samples, probes)\n        Probe values for give samples\n    \n    dataset_field(host, dataset)\n        All field (probe) names in dataset\n    \n    dataset_field_examples(host, dataset, count)\n        Field names in dataset, up to <count>\n    \n    dataset_field_n(host, dataset)\n        Number of fields in dataset\n    \n    dataset_gene_probe_avg(host, dataset, samples, genes)\n        Probe average, per-gene, for given samples\n    \n    dataset_gene_probes_values(host, dataset, samples, genes)\n        Probe values in gene, and probe genomic positions, for given samples\n    \n    dataset_list(host, cohorts)\n        Dataset metadata for datasets in the given cohorts\n    \n    dataset_metadata(host, dataset)\n        Dataset metadata\n    \n    dataset_probe_signature(host, dataset, samples, probes, weights)\n        Computed probe signature for given samples and weight array\n    \n    dataset_probe_values(host, dataset, samples, probes)\n        Probe values for given samples, and probe genomic positions\n        \n        host = xena.PUBLIC_HUBS[\"pancanAtlasHub\"]\n        dataset = \"EB++AdjustPANCAN_IlluminaHiSeq_RNASeqV2.geneExp.xena\"\n        samples = xena.dataset_samples(host, dataset, None)\n        [position, [foxm1, tp53]] = xena.dataset_probe_values(host, dataset, samples, [\"FOXM1\", \"TP53\"])\n    \n    dataset_samples(host, dataset, limit)\n        All samples in dataset (optional limit)\n        \n        samples = xena.dataset_samples(xena.PUBLIC_HUBS[\"pancanAtlasHub\"], \"EB++AdjustPANCAN_IlluminaHiSeq_RNASeqV2.geneExp.xena\", None)\n    \n    dataset_samples_n_dense_matrix(host, dataset)\n        All samples in dataset (faster, for dense matrix dataset only)\n    \n    dataset_sources(host, dataset)\n    \n    dataset_status(host, dataset)\n    \n    datasets_null_rows(host)\n    \n    feature_list(host, dataset)\n        Dataset field names and long titles (phenotypic datasets)\n    \n    field_codes(host, dataset, fields)\n        Codes for categorical fields\n    \n    field_metadata(host, dataset, fields)\n        Metadata for given fields (phenotypic datasets)\n    \n    gene_transcripts(host, dataset, gene)\n        Gene transcripts\n    \n    load_file(name, host='http://127.0.0.1:7222')\n        # XXX need timeout and error handling\n        # should this do the file copy, too?\n    \n    load_ipython_extension(ipython)\n        jupyter support method\n    \n    match_fields(host, dataset, names)\n        Find fields matching names (must be lower-case)\n    \n    open_browser(url='heatmap/', columns=[])\n    \n    probe_count(host, dataset)\n    \n    probemap_list(host)\n        Find probemaps\n    \n    ref_gene_exons(host, dataset, genes)\n        Gene model\n    \n    ref_gene_position(host, dataset, gene)\n        Gene position from gene model\n    \n    ref_gene_range(host, dataset, chr, start, end)\n        Gene models overlapping range\n    \n    segment_data_examples(host, dataset, count)\n        Initial segmented data rows, with limit\n    \n    segmented_data_range(host, dataset, samples, chr, start, end)\n        Segmented (copy number) data overlapping range\n    \n    sparse_data(host, dataset, samples, genes)\n        Sparse (mutation) data rows for genes\n    \n    sparse_data_examples(host, dataset, count)\n        Initial sparse data rows, with limit\n    \n    sparse_data_match_field(host, field, dataset, names)\n        Genes in sparse (mutation) dataset matching given names\n    \n    sparse_data_match_field_slow(host, field, dataset, names)\n        Genes in sparse (mutation) dataset matching given names, case-insensitive (names must be lower-case)\n    \n    sparse_data_match_partial_field(host, field, dataset, names, limit)\n        Partial match genes in sparse (mutation) dataset\n    \n    sparse_data_range(host, dataset, samples, chr, start, end)\n        Sparse (mutation) data rows overlapping the given range, for the given samples\n    \n    transcript_expression(host, transcripts, studyA, subtypeA, studyB, subtypeB, dataset)\n    \n    unload_ipython_extension(ipython)\n        jupyter support method\n\nDATA\n    LOCAL_HUB = 'https://local.xena.ucsc.edu:7223'\n    PUBLIC_HUBS = {'gdcHub': 'https://gdc.xenahubs.net', 'icgcHub': 'https...\n    QUERIES = {'all_cohorts': ';allCohorts\\n(fn [exclude]\\n\\t(map :cohort\\...\n    __warningregistry__ = {'version': 35}\n    excludeType = ['probeMap', 'probemap', 'genePredExt']\n    ipython_instance = None\n\nFILE\n    f:\\python3.7\\lib\\site-packages\\xenapython\\__init__.py\n\n\n"
    }
   ],
   "source": [
    "help(xena)"
   ]
  },
  {
   "cell_type": "markdown",
   "metadata": {},
   "source": [
    "# 涉及的概念"
   ]
  },
  {
   "cell_type": "markdown",
   "metadata": {},
   "source": [
    "* `sample`，指的是一行数据，其对于一个sample IDs，在每个`cohort`中sample IDs是唯一的。\n",
    "* `dataset`，是多行`sample`组成的一个assay（例如，gene expression），其关联一个metadata，里面说明了`dataset`的`cohort`和`datatype`。\n",
    "\n",
    "    有以下3种`datatype`:\n",
    "\n",
    "    * dense matrix：samples x probes，一般是以下两类：\n",
    "        * genotypic\n",
    "        * phenotypic：如果是phenotypic的，则其关联一个field metadata。\n",
    "    * sparse：sample, position, variant.（对应mutation数据）\n",
    "    * segmented：sample, position, value.（对应copy number数据）\n",
    "\n",
    "* `cohort`，是多个`dataset`组成的，对应UCSC Xena中的study。可能一个`dataset`会出现在多个`cohort`中。"
   ]
  },
  {
   "cell_type": "code",
   "execution_count": 6,
   "metadata": {},
   "outputs": [
    {
     "output_type": "error",
     "ename": "HTTPError",
     "evalue": "HTTP Error 500: Server Error",
     "traceback": [
      "\u001b[1;31m---------------------------------------------------------------------------\u001b[0m",
      "\u001b[1;31mHTTPError\u001b[0m                                 Traceback (most recent call last)",
      "\u001b[1;32m<ipython-input-6-293a2c0c7e18>\u001b[0m in \u001b[0;36m<module>\u001b[1;34m\u001b[0m\n\u001b[1;32m----> 1\u001b[1;33m \u001b[0mxena\u001b[0m\u001b[1;33m.\u001b[0m\u001b[0mall_cohorts\u001b[0m\u001b[1;33m(\u001b[0m\u001b[0mxena\u001b[0m\u001b[1;33m.\u001b[0m\u001b[0mPUBLIC_HUBS\u001b[0m\u001b[1;33m[\u001b[0m\u001b[1;34m\"publicHub\"\u001b[0m\u001b[1;33m]\u001b[0m\u001b[1;33m,\u001b[0m \u001b[0mxena\u001b[0m\u001b[1;33m.\u001b[0m\u001b[0mexcludeType\u001b[0m\u001b[1;33m[\u001b[0m\u001b[1;36m0\u001b[0m\u001b[1;33m]\u001b[0m\u001b[1;33m)\u001b[0m\u001b[1;33m\u001b[0m\u001b[1;33m\u001b[0m\u001b[0m\n\u001b[0m",
      "\u001b[1;32mF:\\Python3.7\\lib\\site-packages\\xenaPython\\__init__.py\u001b[0m in \u001b[0;36m<lambda>\u001b[1;34m(host, exclude)\u001b[0m\n",
      "\u001b[1;32mF:\\Python3.7\\lib\\site-packages\\xenaPython\\xenaQuery.py\u001b[0m in \u001b[0;36mpost\u001b[1;34m(url, query)\u001b[0m\n\u001b[0;32m    199\u001b[0m     \u001b[1;34m\"\"\"POST a xena data query to the given url.\"\"\"\u001b[0m\u001b[1;33m\u001b[0m\u001b[1;33m\u001b[0m\u001b[0m\n\u001b[0;32m    200\u001b[0m     \u001b[0mreq\u001b[0m \u001b[1;33m=\u001b[0m \u001b[0mRequest\u001b[0m\u001b[1;33m(\u001b[0m\u001b[0murl\u001b[0m \u001b[1;33m+\u001b[0m \u001b[1;34m'/data/'\u001b[0m\u001b[1;33m,\u001b[0m \u001b[0mquery\u001b[0m\u001b[1;33m.\u001b[0m\u001b[0mencode\u001b[0m\u001b[1;33m(\u001b[0m\u001b[1;33m)\u001b[0m\u001b[1;33m,\u001b[0m \u001b[0mheaders\u001b[0m\u001b[1;33m)\u001b[0m\u001b[1;33m\u001b[0m\u001b[1;33m\u001b[0m\u001b[0m\n\u001b[1;32m--> 201\u001b[1;33m     \u001b[0mresponse\u001b[0m \u001b[1;33m=\u001b[0m \u001b[0murlopen\u001b[0m\u001b[1;33m(\u001b[0m\u001b[0mreq\u001b[0m\u001b[1;33m)\u001b[0m\u001b[1;33m\u001b[0m\u001b[1;33m\u001b[0m\u001b[0m\n\u001b[0m\u001b[0;32m    202\u001b[0m     \u001b[0mresult\u001b[0m \u001b[1;33m=\u001b[0m \u001b[0mresponse\u001b[0m\u001b[1;33m.\u001b[0m\u001b[0mread\u001b[0m\u001b[1;33m(\u001b[0m\u001b[1;33m)\u001b[0m\u001b[1;33m.\u001b[0m\u001b[0mdecode\u001b[0m\u001b[1;33m(\u001b[0m\u001b[1;34m'utf-8'\u001b[0m\u001b[1;33m)\u001b[0m\u001b[1;33m\u001b[0m\u001b[1;33m\u001b[0m\u001b[0m\n\u001b[0;32m    203\u001b[0m     \u001b[1;32mreturn\u001b[0m \u001b[0mresult\u001b[0m\u001b[1;33m\u001b[0m\u001b[1;33m\u001b[0m\u001b[0m\n",
      "\u001b[1;32mF:\\Python3.7\\lib\\urllib\\request.py\u001b[0m in \u001b[0;36murlopen\u001b[1;34m(url, data, timeout, cafile, capath, cadefault, context)\u001b[0m\n\u001b[0;32m    220\u001b[0m     \u001b[1;32melse\u001b[0m\u001b[1;33m:\u001b[0m\u001b[1;33m\u001b[0m\u001b[1;33m\u001b[0m\u001b[0m\n\u001b[0;32m    221\u001b[0m         \u001b[0mopener\u001b[0m \u001b[1;33m=\u001b[0m \u001b[0m_opener\u001b[0m\u001b[1;33m\u001b[0m\u001b[1;33m\u001b[0m\u001b[0m\n\u001b[1;32m--> 222\u001b[1;33m     \u001b[1;32mreturn\u001b[0m \u001b[0mopener\u001b[0m\u001b[1;33m.\u001b[0m\u001b[0mopen\u001b[0m\u001b[1;33m(\u001b[0m\u001b[0murl\u001b[0m\u001b[1;33m,\u001b[0m \u001b[0mdata\u001b[0m\u001b[1;33m,\u001b[0m \u001b[0mtimeout\u001b[0m\u001b[1;33m)\u001b[0m\u001b[1;33m\u001b[0m\u001b[1;33m\u001b[0m\u001b[0m\n\u001b[0m\u001b[0;32m    223\u001b[0m \u001b[1;33m\u001b[0m\u001b[0m\n\u001b[0;32m    224\u001b[0m \u001b[1;32mdef\u001b[0m \u001b[0minstall_opener\u001b[0m\u001b[1;33m(\u001b[0m\u001b[0mopener\u001b[0m\u001b[1;33m)\u001b[0m\u001b[1;33m:\u001b[0m\u001b[1;33m\u001b[0m\u001b[1;33m\u001b[0m\u001b[0m\n",
      "\u001b[1;32mF:\\Python3.7\\lib\\urllib\\request.py\u001b[0m in \u001b[0;36mopen\u001b[1;34m(self, fullurl, data, timeout)\u001b[0m\n\u001b[0;32m    529\u001b[0m         \u001b[1;32mfor\u001b[0m \u001b[0mprocessor\u001b[0m \u001b[1;32min\u001b[0m \u001b[0mself\u001b[0m\u001b[1;33m.\u001b[0m\u001b[0mprocess_response\u001b[0m\u001b[1;33m.\u001b[0m\u001b[0mget\u001b[0m\u001b[1;33m(\u001b[0m\u001b[0mprotocol\u001b[0m\u001b[1;33m,\u001b[0m \u001b[1;33m[\u001b[0m\u001b[1;33m]\u001b[0m\u001b[1;33m)\u001b[0m\u001b[1;33m:\u001b[0m\u001b[1;33m\u001b[0m\u001b[1;33m\u001b[0m\u001b[0m\n\u001b[0;32m    530\u001b[0m             \u001b[0mmeth\u001b[0m \u001b[1;33m=\u001b[0m \u001b[0mgetattr\u001b[0m\u001b[1;33m(\u001b[0m\u001b[0mprocessor\u001b[0m\u001b[1;33m,\u001b[0m \u001b[0mmeth_name\u001b[0m\u001b[1;33m)\u001b[0m\u001b[1;33m\u001b[0m\u001b[1;33m\u001b[0m\u001b[0m\n\u001b[1;32m--> 531\u001b[1;33m             \u001b[0mresponse\u001b[0m \u001b[1;33m=\u001b[0m \u001b[0mmeth\u001b[0m\u001b[1;33m(\u001b[0m\u001b[0mreq\u001b[0m\u001b[1;33m,\u001b[0m \u001b[0mresponse\u001b[0m\u001b[1;33m)\u001b[0m\u001b[1;33m\u001b[0m\u001b[1;33m\u001b[0m\u001b[0m\n\u001b[0m\u001b[0;32m    532\u001b[0m \u001b[1;33m\u001b[0m\u001b[0m\n\u001b[0;32m    533\u001b[0m         \u001b[1;32mreturn\u001b[0m \u001b[0mresponse\u001b[0m\u001b[1;33m\u001b[0m\u001b[1;33m\u001b[0m\u001b[0m\n",
      "\u001b[1;32mF:\\Python3.7\\lib\\urllib\\request.py\u001b[0m in \u001b[0;36mhttp_response\u001b[1;34m(self, request, response)\u001b[0m\n\u001b[0;32m    639\u001b[0m         \u001b[1;32mif\u001b[0m \u001b[1;32mnot\u001b[0m \u001b[1;33m(\u001b[0m\u001b[1;36m200\u001b[0m \u001b[1;33m<=\u001b[0m \u001b[0mcode\u001b[0m \u001b[1;33m<\u001b[0m \u001b[1;36m300\u001b[0m\u001b[1;33m)\u001b[0m\u001b[1;33m:\u001b[0m\u001b[1;33m\u001b[0m\u001b[1;33m\u001b[0m\u001b[0m\n\u001b[0;32m    640\u001b[0m             response = self.parent.error(\n\u001b[1;32m--> 641\u001b[1;33m                 'http', request, response, code, msg, hdrs)\n\u001b[0m\u001b[0;32m    642\u001b[0m \u001b[1;33m\u001b[0m\u001b[0m\n\u001b[0;32m    643\u001b[0m         \u001b[1;32mreturn\u001b[0m \u001b[0mresponse\u001b[0m\u001b[1;33m\u001b[0m\u001b[1;33m\u001b[0m\u001b[0m\n",
      "\u001b[1;32mF:\\Python3.7\\lib\\urllib\\request.py\u001b[0m in \u001b[0;36merror\u001b[1;34m(self, proto, *args)\u001b[0m\n\u001b[0;32m    567\u001b[0m         \u001b[1;32mif\u001b[0m \u001b[0mhttp_err\u001b[0m\u001b[1;33m:\u001b[0m\u001b[1;33m\u001b[0m\u001b[1;33m\u001b[0m\u001b[0m\n\u001b[0;32m    568\u001b[0m             \u001b[0margs\u001b[0m \u001b[1;33m=\u001b[0m \u001b[1;33m(\u001b[0m\u001b[0mdict\u001b[0m\u001b[1;33m,\u001b[0m \u001b[1;34m'default'\u001b[0m\u001b[1;33m,\u001b[0m \u001b[1;34m'http_error_default'\u001b[0m\u001b[1;33m)\u001b[0m \u001b[1;33m+\u001b[0m \u001b[0morig_args\u001b[0m\u001b[1;33m\u001b[0m\u001b[1;33m\u001b[0m\u001b[0m\n\u001b[1;32m--> 569\u001b[1;33m             \u001b[1;32mreturn\u001b[0m \u001b[0mself\u001b[0m\u001b[1;33m.\u001b[0m\u001b[0m_call_chain\u001b[0m\u001b[1;33m(\u001b[0m\u001b[1;33m*\u001b[0m\u001b[0margs\u001b[0m\u001b[1;33m)\u001b[0m\u001b[1;33m\u001b[0m\u001b[1;33m\u001b[0m\u001b[0m\n\u001b[0m\u001b[0;32m    570\u001b[0m \u001b[1;33m\u001b[0m\u001b[0m\n\u001b[0;32m    571\u001b[0m \u001b[1;31m# XXX probably also want an abstract factory that knows when it makes\u001b[0m\u001b[1;33m\u001b[0m\u001b[1;33m\u001b[0m\u001b[1;33m\u001b[0m\u001b[0m\n",
      "\u001b[1;32mF:\\Python3.7\\lib\\urllib\\request.py\u001b[0m in \u001b[0;36m_call_chain\u001b[1;34m(self, chain, kind, meth_name, *args)\u001b[0m\n\u001b[0;32m    501\u001b[0m         \u001b[1;32mfor\u001b[0m \u001b[0mhandler\u001b[0m \u001b[1;32min\u001b[0m \u001b[0mhandlers\u001b[0m\u001b[1;33m:\u001b[0m\u001b[1;33m\u001b[0m\u001b[1;33m\u001b[0m\u001b[0m\n\u001b[0;32m    502\u001b[0m             \u001b[0mfunc\u001b[0m \u001b[1;33m=\u001b[0m \u001b[0mgetattr\u001b[0m\u001b[1;33m(\u001b[0m\u001b[0mhandler\u001b[0m\u001b[1;33m,\u001b[0m \u001b[0mmeth_name\u001b[0m\u001b[1;33m)\u001b[0m\u001b[1;33m\u001b[0m\u001b[1;33m\u001b[0m\u001b[0m\n\u001b[1;32m--> 503\u001b[1;33m             \u001b[0mresult\u001b[0m \u001b[1;33m=\u001b[0m \u001b[0mfunc\u001b[0m\u001b[1;33m(\u001b[0m\u001b[1;33m*\u001b[0m\u001b[0margs\u001b[0m\u001b[1;33m)\u001b[0m\u001b[1;33m\u001b[0m\u001b[1;33m\u001b[0m\u001b[0m\n\u001b[0m\u001b[0;32m    504\u001b[0m             \u001b[1;32mif\u001b[0m \u001b[0mresult\u001b[0m \u001b[1;32mis\u001b[0m \u001b[1;32mnot\u001b[0m \u001b[1;32mNone\u001b[0m\u001b[1;33m:\u001b[0m\u001b[1;33m\u001b[0m\u001b[1;33m\u001b[0m\u001b[0m\n\u001b[0;32m    505\u001b[0m                 \u001b[1;32mreturn\u001b[0m \u001b[0mresult\u001b[0m\u001b[1;33m\u001b[0m\u001b[1;33m\u001b[0m\u001b[0m\n",
      "\u001b[1;32mF:\\Python3.7\\lib\\urllib\\request.py\u001b[0m in \u001b[0;36mhttp_error_default\u001b[1;34m(self, req, fp, code, msg, hdrs)\u001b[0m\n\u001b[0;32m    647\u001b[0m \u001b[1;32mclass\u001b[0m \u001b[0mHTTPDefaultErrorHandler\u001b[0m\u001b[1;33m(\u001b[0m\u001b[0mBaseHandler\u001b[0m\u001b[1;33m)\u001b[0m\u001b[1;33m:\u001b[0m\u001b[1;33m\u001b[0m\u001b[1;33m\u001b[0m\u001b[0m\n\u001b[0;32m    648\u001b[0m     \u001b[1;32mdef\u001b[0m \u001b[0mhttp_error_default\u001b[0m\u001b[1;33m(\u001b[0m\u001b[0mself\u001b[0m\u001b[1;33m,\u001b[0m \u001b[0mreq\u001b[0m\u001b[1;33m,\u001b[0m \u001b[0mfp\u001b[0m\u001b[1;33m,\u001b[0m \u001b[0mcode\u001b[0m\u001b[1;33m,\u001b[0m \u001b[0mmsg\u001b[0m\u001b[1;33m,\u001b[0m \u001b[0mhdrs\u001b[0m\u001b[1;33m)\u001b[0m\u001b[1;33m:\u001b[0m\u001b[1;33m\u001b[0m\u001b[1;33m\u001b[0m\u001b[0m\n\u001b[1;32m--> 649\u001b[1;33m         \u001b[1;32mraise\u001b[0m \u001b[0mHTTPError\u001b[0m\u001b[1;33m(\u001b[0m\u001b[0mreq\u001b[0m\u001b[1;33m.\u001b[0m\u001b[0mfull_url\u001b[0m\u001b[1;33m,\u001b[0m \u001b[0mcode\u001b[0m\u001b[1;33m,\u001b[0m \u001b[0mmsg\u001b[0m\u001b[1;33m,\u001b[0m \u001b[0mhdrs\u001b[0m\u001b[1;33m,\u001b[0m \u001b[0mfp\u001b[0m\u001b[1;33m)\u001b[0m\u001b[1;33m\u001b[0m\u001b[1;33m\u001b[0m\u001b[0m\n\u001b[0m\u001b[0;32m    650\u001b[0m \u001b[1;33m\u001b[0m\u001b[0m\n\u001b[0;32m    651\u001b[0m \u001b[1;32mclass\u001b[0m \u001b[0mHTTPRedirectHandler\u001b[0m\u001b[1;33m(\u001b[0m\u001b[0mBaseHandler\u001b[0m\u001b[1;33m)\u001b[0m\u001b[1;33m:\u001b[0m\u001b[1;33m\u001b[0m\u001b[1;33m\u001b[0m\u001b[0m\n",
      "\u001b[1;31mHTTPError\u001b[0m: HTTP Error 500: Server Error"
     ]
    }
   ],
   "source": [
    "xena.all_cohorts(xena.PUBLIC_HUBS[\"publicHub\"], xena.excludeType[0])"
   ]
  },
  {
   "cell_type": "markdown",
   "metadata": {},
   "source": [
    "# 常量"
   ]
  },
  {
   "cell_type": "code",
   "execution_count": 5,
   "metadata": {},
   "outputs": [
    {
     "output_type": "execute_result",
     "data": {
      "text/plain": "['probeMap', 'probemap', 'genePredExt']"
     },
     "metadata": {},
     "execution_count": 5
    }
   ],
   "source": [
    "xena.excludeType"
   ]
  },
  {
   "cell_type": "code",
   "execution_count": 4,
   "metadata": {},
   "outputs": [
    {
     "output_type": "execute_result",
     "data": {
      "text/plain": "{'publicHub': 'https://ucscpublic.xenahubs.net',\n 'tcgaHub': 'https://tcga.xenahubs.net',\n 'icgcHub': 'https://icgc.xenahubs.net',\n 'toilHub': 'https://toil.xenahubs.net',\n 'pcawgHub': 'https://pcawg.xenahubs.net',\n 'singlecellHub': 'https://singlecell.xenahubs.net',\n 'pancanAtlasHub': 'https://pancanatlas.xenahubs.net',\n 'treehouseHub': 'https://xena.treehouse.gi.ucsc.edu',\n 'gdcHub': 'https://gdc.xenahubs.net',\n 'reference': 'https://reference.xenahubs.net'}"
     },
     "metadata": {},
     "execution_count": 4
    }
   ],
   "source": [
    "xena.PUBLIC_HUBS"
   ]
  },
  {
   "cell_type": "code",
   "execution_count": 3,
   "metadata": {},
   "outputs": [
    {
     "output_type": "error",
     "ename": "TypeError",
     "evalue": "<lambda>() missing 2 required positional arguments: 'host' and 'exclude'",
     "traceback": [
      "\u001b[1;31m---------------------------------------------------------------------------\u001b[0m",
      "\u001b[1;31mTypeError\u001b[0m                                 Traceback (most recent call last)",
      "\u001b[1;32m<ipython-input-3-01be2c1b0f34>\u001b[0m in \u001b[0;36m<module>\u001b[1;34m\u001b[0m\n\u001b[1;32m----> 1\u001b[1;33m \u001b[0mxena\u001b[0m\u001b[1;33m.\u001b[0m\u001b[0mall_cohorts\u001b[0m\u001b[1;33m(\u001b[0m\u001b[1;33m)\u001b[0m\u001b[1;33m\u001b[0m\u001b[1;33m\u001b[0m\u001b[0m\n\u001b[0m",
      "\u001b[1;31mTypeError\u001b[0m: <lambda>() missing 2 required positional arguments: 'host' and 'exclude'"
     ]
    }
   ],
   "source": [
    "xena.all_cohorts(\"\")"
   ]
  },
  {
   "cell_type": "code",
   "execution_count": null,
   "metadata": {},
   "outputs": [],
   "source": []
  }
 ],
 "metadata": {
  "language_info": {
   "codemirror_mode": {
    "name": "ipython",
    "version": 3
   },
   "file_extension": ".py",
   "mimetype": "text/x-python",
   "name": "python",
   "nbconvert_exporter": "python",
   "pygments_lexer": "ipython3",
   "version": "3.7.3-final"
  },
  "orig_nbformat": 2,
  "kernelspec": {
   "name": "python37364bitb8b279b2598c4fc782452ea1b2872f13",
   "display_name": "Python 3.7.3 64-bit"
  }
 },
 "nbformat": 4,
 "nbformat_minor": 2
}